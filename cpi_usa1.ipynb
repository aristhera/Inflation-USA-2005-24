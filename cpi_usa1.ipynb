{
 "cells": [
  {
   "cell_type": "code",
   "execution_count": 8,
   "metadata": {},
   "outputs": [
    {
     "name": "stdout",
     "output_type": "stream",
     "text": [
      "{'2005': [0.485, 0.502, 0.507, 0.503, 0.497, 0.493, 0.494, 0.487, 0.485, 0.491, 0.48, 0.482]} {'2024': [0.617, 0.625, 0.629, 0.626, 0.622, 0.625, 0.613, 0.612, 0.617, 0.619, 0.622]}\n",
      "Die Inflation bei optimaler Preisstabilität liegt um 0.083 $ höher als der Wert von 2024\n"
     ]
    }
   ],
   "source": [
    "# data from https://www.bls.gov/charts/consumer-price-index/consumer-price-index-average-price-data.htm\n",
    "# einfach, nur 1. Spalte, Bananen\n",
    "\n",
    "from statistics import mean\n",
    "import re\n",
    "dici_2005 = {'2005': []}\n",
    "dici_2024 = {'2024': []}\n",
    "\n",
    "with open('/home/gebhard/Dropbox/digi/dagstat/konferenz/vpi_usa1.csv') as file:\n",
    "        header = file.readline()\n",
    "        #header = header.strip()\n",
    "        for line in file:\n",
    "            line = line.rstrip().split('\\t')\n",
    "            price = re.sub(r\",\", \".\", line[2])\n",
    "            if line[1] == '2005':                \n",
    "                dici_2005['2005'].append(float(price))\n",
    "            if line[1] == '2024':\n",
    "                dici_2024['2024'].append(float(price))\n",
    "                \n",
    "        print(dici_2005, dici_2024)\n",
    "cpi = mean(dici_2005['2005']) * (1.019**19)\n",
    "res = cpi - mean(dici_2024['2024'])\n",
    "print(f'Der Preis für Bananen liegt bei optimaler Preisstabilität um {res:.3f} $ höher als der Wert von 2024')"
   ]
  },
  {
   "cell_type": "code",
   "execution_count": 49,
   "metadata": {},
   "outputs": [],
   "source": [
    "# alle\n",
    "from statistics import mean\n",
    "dici = {}\n",
    "liste_mean = []\n",
    "\n",
    "with open('/home/gebhard/Dropbox/digi/dagstat/konferenz/vpi_usa1.csv') as file:\n",
    "    header = file.readline().rstrip().split('\\t')\n",
    "    for line in file:\n",
    "        line = line.rstrip().split('\\t')\n",
    "        year = line[1]\n",
    "        if year not in dici: # initialize keys\n",
    "            dici[year] = {}\n",
    "        for i in range(2, len(line)):\n",
    "            item = header[i]\n",
    "            price = line[i].replace(',', '.')\n",
    "            try:\n",
    "                price = float(price)\n",
    "            except ValueError:\n",
    "                #print(f\"missing value for {item} in {year}\")\n",
    "                continue\n",
    "            if item in dici[year]:\n",
    "                dici[year][item].append(price)\n",
    "            else:\n",
    "                dici[year][item] = [price]"
   ]
  },
  {
   "cell_type": "code",
   "execution_count": 81,
   "metadata": {},
   "outputs": [
    {
     "name": "stdout",
     "output_type": "stream",
     "text": [
      "Bananas, per lb.: 0.70 - 0.62 = 0.08\n",
      "\n",
      "Oranges, Navel, per lb.: 1.42 - 1.62 = -0.20\n",
      "\n",
      "Bread, white, pan, per lb.: 1.49 - 1.98 = -0.49\n",
      "\n",
      "Tomatoes, field grown, per lb.: 2.30 - 1.99 = 0.32\n",
      "\n",
      "Chicken, fresh, whole, per lb.: 1.51 - 1.99 = -0.48\n",
      "\n",
      "Electricity per KWH: 0.14 - 0.18 = -0.03\n",
      "\n",
      "Eggs, grade A, large, per doz.: 1.74 - 3.08 = -1.34\n",
      "\n",
      "Gasoline, unleaded regular, per gallon: 3.28 - 3.48 = -0.19\n",
      "\n",
      "Ground chuck, 100% beef, per lb.: 3.63 - 5.42 = -1.79\n",
      "\n",
      "Utility (piped) gas per therm: 1.79 - 1.42 = 0.37\n",
      "\n",
      "Milk, fresh, whole, fortified, per gal.: 4.56 - 3.97 = 0.58\n",
      "\n",
      "Now analyse the results :)\n"
     ]
    }
   ],
   "source": [
    "liste_2005_av = []\n",
    "liste_2024_av = []\n",
    "for i in header[2:]:\n",
    "    x = mean(dici['2005'][i])\n",
    "    liste_2005_av.append(x)\n",
    "    y = mean(dici['2024'][i])\n",
    "    liste_2024_av.append(y)\n",
    "\n",
    "for h, i, j in zip(header[2:], liste_2005_av, liste_2024_av):\n",
    "    print(f'{h}: {i * (1.019**19):.2f} - {j:.2f} = {i * (1.019**19) - j:.2f}\\n')\n",
    "print('Now analyse the results :)')"
   ]
  },
  {
   "cell_type": "code",
   "execution_count": null,
   "metadata": {},
   "outputs": [],
   "source": []
  }
 ],
 "metadata": {
  "kernelspec": {
   "display_name": "Python 3",
   "language": "python",
   "name": "python3"
  },
  "language_info": {
   "codemirror_mode": {
    "name": "ipython",
    "version": 3
   },
   "file_extension": ".py",
   "mimetype": "text/x-python",
   "name": "python",
   "nbconvert_exporter": "python",
   "pygments_lexer": "ipython3",
   "version": "3.9.2"
  }
 },
 "nbformat": 4,
 "nbformat_minor": 4
}
